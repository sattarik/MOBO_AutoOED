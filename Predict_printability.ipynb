{
 "cells": [
  {
   "cell_type": "code",
   "execution_count": 3,
   "id": "d72b2210",
   "metadata": {},
   "outputs": [],
   "source": [
    "# default is to maximize the objectives\n",
    "import time as time\n",
    "import numpy as np\n",
    "import copy\n",
    "%matplotlib inline\n",
    "import matplotlib.pyplot as plt\n",
    "import pandas as pd\n",
    "import seaborn as sns\n",
    "import math\n",
    "from scipy.stats import norm\n",
    "\n",
    "# example of a gaussian process surrogate function\n",
    "from math import sin\n",
    "from math import pi\n",
    "from numpy import arange\n",
    "from numpy import asarray\n",
    "from numpy.random import normal\n",
    "from numpy.random import uniform\n",
    "from numpy.random import random\n",
    "from warnings import catch_warnings\n",
    "from warnings import simplefilter\n",
    "from sklearn.gaussian_process import GaussianProcessRegressor\n",
    "from sklearn.ensemble import RandomForestRegressor, RandomForestClassifier\n",
    "\n",
    "from autooed.utils.sampling import lhs\n",
    "import random\n",
    "#import xgboost as xgb\n",
    "#from xgboost import XGBRegressor\n",
    "#from xgboost import plot_tree\n",
    "from sklearn import linear_model\n",
    "from sklearn import ensemble\n",
    "\n",
    "from sklearn.tree import DecisionTreeRegressor\n",
    "from sklearn.model_selection import GridSearchCV\n",
    "# import pydo\n",
    "# generate random integer values\n",
    "from random import seed\n",
    "from random import randint\n",
    "# seed random number generator\n",
    "seed(1)\n",
    "# Machine learning & model visualization tools\n",
    "from sklearn.model_selection import train_test_split\n",
    "from sklearn import preprocessing\n",
    "from sklearn.pipeline import make_pipeline\n",
    "from sklearn.model_selection import GridSearchCV\n",
    "from sklearn.metrics import r2_score, mean_squared_error\n",
    "from sklearn.tree import export_graphviz\n",
    "from sklearn import svm\n",
    "from sklearn.neural_network import MLPRegressor\n",
    "from sklearn.neighbors import KNeighborsRegressor\n",
    "from numpy import cov\n",
    "from scipy.stats import pearsonr\n",
    "from scipy import ndimage, misc\n",
    "#import pydot\n",
    "from sklearn.model_selection import LeaveOneOut\n",
    "from sklearn.metrics import mean_absolute_error\n",
    "# from sklearn.externals import joblib\n",
    "# Miscellaneous\n",
    "import os\n",
    "import io\n",
    "#from tensorflow.keras.models import Sequential\n",
    "#from tensorflow.keras.layers import Dense\n",
    "#from tensorflow.keras.wrappers.scikit_learn import KerasRegressor\n",
    "from sklearn.inspection import partial_dependence, plot_partial_dependence\n",
    "# Doing some chemistry and feature engineering of the structure\n",
    "import pickle\n",
    "import re\n",
    "from rdkit import Chem\n",
    "from rdkit.Chem import AllChem\n",
    "from rdkit.Chem import Descriptors\n",
    "from chainer_chemistry.datasets.molnet import get_molnet_dataset\n",
    "# the package is in the same directory\n",
    "from autooed.utils.sampling import lhs\n",
    "\n",
    "import numpy as np\n",
    "from sklearn.decomposition import PCA\n",
    "from sklearn.model_selection import train_test_split\n",
    "# get Today's date from python!\n",
    "from datetime import datetime"
   ]
  },
  {
   "cell_type": "code",
   "execution_count": 4,
   "id": "c2940d3f",
   "metadata": {},
   "outputs": [],
   "source": [
    "## define RF_feature_gen:\n",
    "##     input: R1, R2, ..,R6 ratios of the monomers\n",
    "##     output: features as inputs of Black box RF \n",
    "## generate inputs to RF from ratios of monomers times the features\n",
    "def RF_feature_gen(x):\n",
    "    features = {\n",
    "     'MolWt': Descriptors.MolWt,\n",
    "     'HeavyAtomCount': Descriptors.HeavyAtomCount,\n",
    "     'HeavyAtomMolWt': Descriptors.HeavyAtomMolWt,\n",
    "     'NumHAcceptors': Descriptors.NumHAcceptors,\n",
    "     'NumHDonors': Descriptors.NumHDonors,\n",
    "     'NumHeteroatoms': Descriptors.NumHeteroatoms,\n",
    "     'NumRotatableBonds': Descriptors.NumRotatableBonds,\n",
    "     'NumValenceElectrons': Descriptors.NumValenceElectrons,\n",
    "     'NumAromaticRings': Descriptors.NumAromaticRings,\n",
    "     'NumSaturatedRings': Descriptors.NumSaturatedRings,\n",
    "     'NumAliphaticRings': Descriptors.NumAliphaticRings,\n",
    "     'NumRadicalElectrons': Descriptors.NumRadicalElectrons,\n",
    "     'NumAliphaticCarbocycles': Descriptors.NumAliphaticCarbocycles,\n",
    "     'NumAliphaticHeterocycles': Descriptors.NumAliphaticHeterocycles,\n",
    "     'NumAromaticCarbocycles': Descriptors.NumAromaticCarbocycles,\n",
    "     'NumAromaticHeterocycles': Descriptors.NumAromaticHeterocycles,\n",
    "     'NumSaturatedCarbocycles': Descriptors.NumSaturatedCarbocycles,\n",
    "     'NumSaturatedHeterocycles': Descriptors.NumSaturatedHeterocycles}\n",
    "    # Modified Urethane Di-acrilate\n",
    "    Oligoers_smiles = []\n",
    "    RD_features = {}\n",
    "    for f in features.keys():\n",
    "        f = f + '_RD'\n",
    "        RD_features[f] = []\n",
    "        RD_SMILES = ['C=CC(=O)OCC(COC1=CC=CC=C1)O', \n",
    "                     'CC(C)CCCCCOC(=O)C=C', \n",
    "                     'C=CN1CCCC1=O',\n",
    "                     'C=CC(=O)O', \n",
    "                     'C=CC(=O)NCCO',\n",
    "                     'CC1(C2CCC1(C(C2)OC(=O)C=C)C)C']\n",
    "    for i, smiles in enumerate(RD_SMILES):\n",
    "\n",
    "        if (i + 1) % 5000 == 0:\n",
    "            print('Currently processed: {}/{}'.format(i+1, len(SMILES)))\n",
    "\n",
    "        m = AllChem.MolFromSmiles(smiles)\n",
    "\n",
    "        for k, v in features.items():\n",
    "            k = k + '_RD'\n",
    "            try:\n",
    "                 RD_features[k].append(v(m))\n",
    "            except:\n",
    "                 print (\"the feature is not available for {}\".format(smiles))\n",
    "\n",
    "\n",
    "    RD_features = pd.DataFrame(RD_features)\n",
    "    #print (RD_features.shape)\n",
    "    X = np.array(x).reshape(-1,1)\n",
    "    X_features = X * RD_features\n",
    "    return X_features\n",
    "#RD_features.to_csv('RD_features.csv', index = False)"
   ]
  },
  {
   "cell_type": "code",
   "execution_count": 124,
   "id": "48715881",
   "metadata": {},
   "outputs": [
    {
     "name": "stdout",
     "output_type": "stream",
     "text": [
      "r2_scoreRF_train 0.8905235629078323\n",
      "r2_scoreRF 0.2833953958312443\n"
     ]
    }
   ],
   "source": [
    "\n",
    "df = pd.read_csv('Yuchao_20220511.csv')\n",
    "#df = pd.read_csv('Imaginery_initial_.csv')\n",
    "Tensile_Strength_Mpa = np.asarray (df['Tensile_Strength']).reshape(1,-1)\n",
    "Toughness = np.asarray (df['Toughness']).reshape(1,-1)\n",
    "Y = np.concatenate((Tensile_Strength_Mpa.T, Toughness.T),axis=1)\n",
    "\n",
    "#X_ = df.to_numpy()\n",
    "A_Ratio = np.asarray (df['R1(HA)']).reshape(1,-1)\n",
    "B_Ratio = np.asarray (df['R2(IA)']).reshape(1,-1)\n",
    "C_Ratio = np.asarray (df['R3(NVP)']).reshape(1,-1)\n",
    "D_Ratio = np.asarray (df['R4(AA)']).reshape(1,-1)\n",
    "E_Ratio = np.asarray (df['R5(HEAA)']).reshape(1,-1)\n",
    "F_Ratio = np.asarray (df['R6(IBOA)']).reshape(1,-1)\n",
    "X_ = np.concatenate((A_Ratio.T, B_Ratio.T, C_Ratio.T, D_Ratio.T, E_Ratio.T, F_Ratio.T), \n",
    "                    axis=1)\n",
    "\n",
    "X_train, X_test, y_train, y_test = train_test_split(\n",
    "   X_, Y, test_size=0.2)\n",
    "\n",
    "\n",
    "regrRF = RandomForestRegressor(max_depth=5, random_state=9)\n",
    "regrRF.fit(X_train, y_train)\n",
    "\n",
    "r2_scoreRF_train = r2_score (y_train, regrRF.predict(X_train))\n",
    "print (\"r2_scoreRF_train\", r2_scoreRF_train)\n",
    "\n",
    "r2_scoreRF_test = r2_score (y_test, regrRF.predict(X_test))\n",
    "print (\"r2_scoreRF\", r2_scoreRF_test)"
   ]
  },
  {
   "cell_type": "code",
   "execution_count": 13,
   "id": "changed-washer",
   "metadata": {},
   "outputs": [
    {
     "data": {
      "text/plain": [
       "array([['Y'],\n",
       "       ['Y'],\n",
       "       ['Y'],\n",
       "       ['Y'],\n",
       "       ['Y'],\n",
       "       ['Y'],\n",
       "       ['Y'],\n",
       "       ['Y'],\n",
       "       ['Y'],\n",
       "       ['Y'],\n",
       "       ['Y'],\n",
       "       ['Y'],\n",
       "       ['Y'],\n",
       "       ['Y'],\n",
       "       ['Y'],\n",
       "       ['Y'],\n",
       "       ['Y'],\n",
       "       ['Y'],\n",
       "       ['Y'],\n",
       "       ['Y'],\n",
       "       ['Y'],\n",
       "       ['Y'],\n",
       "       ['Y'],\n",
       "       ['Y'],\n",
       "       ['Y'],\n",
       "       ['Y'],\n",
       "       ['N'],\n",
       "       ['Y'],\n",
       "       ['N'],\n",
       "       ['N'],\n",
       "       ['N'],\n",
       "       ['N'],\n",
       "       ['Y'],\n",
       "       ['N'],\n",
       "       ['Y'],\n",
       "       ['Y'],\n",
       "       ['N'],\n",
       "       ['Y'],\n",
       "       ['Y'],\n",
       "       ['Y']], dtype=object)"
      ]
     },
     "execution_count": 13,
     "metadata": {},
     "output_type": "execute_result"
    }
   ],
   "source": [
    "Y"
   ]
  },
  {
   "cell_type": "code",
   "execution_count": 138,
   "id": "downtown-brunei",
   "metadata": {},
   "outputs": [
    {
     "name": "stdout",
     "output_type": "stream",
     "text": [
      "1.0\n",
      "1.0\n"
     ]
    },
    {
     "name": "stderr",
     "output_type": "stream",
     "text": [
      "<ipython-input-138-b9e38099779f>:23: DataConversionWarning: A column-vector y was passed when a 1d array was expected. Please change the shape of y to (n_samples,), for example using ravel().\n",
      "  RF.fit(X_train, y_train)\n"
     ]
    }
   ],
   "source": [
    "# printability as Y\n",
    "df = pd.read_csv('Yuchao_20220511.csv')\n",
    "#df = pd.read_csv('Imaginery_initial_.csv')\n",
    "Printability = np.asarray (df['Printability']).reshape(1,-1)\n",
    "Y0 = Printability.T\n",
    "Y = np.where(Y0 == 'Y', 1, 0)\n",
    "\n",
    "#X_ = df.to_numpy()\n",
    "A_Ratio = np.asarray (df['R1(HA)']).reshape(1,-1)\n",
    "B_Ratio = np.asarray (df['R2(IA)']).reshape(1,-1)\n",
    "C_Ratio = np.asarray (df['R3(NVP)']).reshape(1,-1)\n",
    "D_Ratio = np.asarray (df['R4(AA)']).reshape(1,-1)\n",
    "E_Ratio = np.asarray (df['R5(HEAA)']).reshape(1,-1)\n",
    "#F_Ratio = np.asarray (df['R6(IBOA)']).reshape(1,-1)\n",
    "X_ = np.concatenate((A_Ratio.T, B_Ratio.T, C_Ratio.T, D_Ratio.T, E_Ratio.T), \n",
    "                    axis=1)\n",
    "\n",
    "X_train, X_test, y_train, y_test = train_test_split(\n",
    "   X_, Y, test_size=0.2)\n",
    "\n",
    "\n",
    "RF = RandomForestClassifier(max_depth=10)\n",
    "RF.fit(X_train, y_train)\n",
    "pred = RF.predict_proba(X_train)\n",
    "\n",
    "print (RF.score(X_train, y_train))\n",
    "print (RF.score(X_test, y_test))"
   ]
  },
  {
   "cell_type": "code",
   "execution_count": 102,
   "id": "stuck-ranking",
   "metadata": {},
   "outputs": [
    {
     "data": {
      "text/plain": [
       "array([[0.  , 0.1 , 0.3 , 0.2 , 0.2 ],\n",
       "       [0.  , 0.3 , 0.7 , 0.  , 0.  ],\n",
       "       [0.15, 0.34, 0.07, 0.15, 0.1 ],\n",
       "       [0.13, 0.05, 0.18, 0.05, 0.21],\n",
       "       [0.12, 0.25, 0.23, 0.22, 0.15],\n",
       "       [0.06, 0.17, 0.27, 0.11, 0.27],\n",
       "       [0.2 , 0.  , 0.8 , 0.  , 0.  ],\n",
       "       [0.29, 0.11, 0.19, 0.27, 0.07]])"
      ]
     },
     "execution_count": 102,
     "metadata": {},
     "output_type": "execute_result"
    }
   ],
   "source": [
    "X_test"
   ]
  },
  {
   "cell_type": "code",
   "execution_count": 114,
   "id": "absolute-avatar",
   "metadata": {},
   "outputs": [
    {
     "data": {
      "text/plain": [
       "array([[0.53, 0.47]])"
      ]
     },
     "execution_count": 114,
     "metadata": {},
     "output_type": "execute_result"
    }
   ],
   "source": [
    "RF.predict_proba([[0.3  , 0.6 , 0 , 0.1 , 0 ]])"
   ]
  },
  {
   "cell_type": "code",
   "execution_count": 96,
   "id": "cloudy-contribution",
   "metadata": {},
   "outputs": [
    {
     "data": {
      "text/plain": [
       "(40, 1)"
      ]
     },
     "execution_count": 96,
     "metadata": {},
     "output_type": "execute_result"
    }
   ],
   "source": [
    "Y2.shape"
   ]
  },
  {
   "cell_type": "code",
   "execution_count": 97,
   "id": "split-somalia",
   "metadata": {},
   "outputs": [
    {
     "data": {
      "text/plain": [
       "(40, 1)"
      ]
     },
     "execution_count": 97,
     "metadata": {},
     "output_type": "execute_result"
    }
   ],
   "source": [
    "Y.shape"
   ]
  },
  {
   "cell_type": "code",
   "execution_count": 4,
   "id": "7cd64909",
   "metadata": {},
   "outputs": [
    {
     "name": "stdout",
     "output_type": "stream",
     "text": [
      "(20, 1)\n",
      "Dim. of Search Space = 6\n",
      "no metrics are going to be saved\n"
     ]
    },
    {
     "data": {
      "image/png": "[encoded data removed]",
      "text/plain": [
       "<Figure size 360x288 with 1 Axes>"
      ]
     },
     "metadata": {
      "needs_background": "light"
     },
     "output_type": "display_data"
    }
   ],
   "source": [
    "## Objective function \n",
    "def objective(x):\n",
    "    Tensile_Strength_Mpa = float (input (\n",
    "            \"ratios A-F {} sum {} Enter Tensile Str. [Mpa]: \".\n",
    "             format(np.round(x,2), np.sum(np.round(x,2)))))\n",
    "    Toughness = float (input (\"Enter Toughness in Mpa: \"))\n",
    "    objectives = np.array((Tensile_Strength_Mpa, Toughness))\n",
    "    return objectives\n",
    "\n",
    "def classifier(y):\n",
    "    printability = input (\"Enter the class: \")\n",
    "    printability = int(printability)\n",
    "    return printability\n",
    "    #return 1 if np.all(abs(y) < 0.8) else 0\n",
    "    \n",
    "## define bounds for x, input variable, shape (NParam, 2) --> 2[lb, ub]\n",
    "bounds = np.array([(0,1), (0,1), (0,1), (0,1), (0,1), (0,1)])\n",
    "NObj = 2\n",
    "\n",
    "random.seed(10)\n",
    "np.random.seed(2021)\n",
    "no_inputs = 6\n",
    "dataset_size = 30\n",
    "\n",
    "# reading data file\n",
    "df = pd.read_csv('Yuchao_20220504.csv')\n",
    "\n",
    "Tensile_Strength_Mpa = np.asarray (df['Tensile_Strength']).reshape(1,-1)\n",
    "Toughness = np.asarray (df['Toughness']).reshape(1,-1)\n",
    "Y = np.concatenate((Tensile_Strength_Mpa.T, Toughness.T),axis=1)\n",
    "\n",
    "#X_ = df.to_numpy()\n",
    "A_Ratio = np.asarray (df['R1(HA)']).reshape(1,-1)\n",
    "B_Ratio = np.asarray (df['R2(IA)']).reshape(1,-1)\n",
    "C_Ratio = np.asarray (df['R3(NVP)']).reshape(1,-1)\n",
    "D_Ratio = np.asarray (df['R4(AA)']).reshape(1,-1)\n",
    "E_Ratio = np.asarray (df['R5(HEAA)']).reshape(1,-1)\n",
    "F_Ratio = np.asarray (df['R6(IBOA)']).reshape(1,-1)\n",
    "X = np.concatenate((A_Ratio.T, B_Ratio.T, C_Ratio.T, D_Ratio.T, E_Ratio.T, F_Ratio.T), \n",
    "                    axis=1)\n",
    "\n",
    "const = pd.Series(np.where(df.Printability.values == 'Y', 1, 0), df.index)\n",
    "const = np.array(const).reshape(-1,1)\n",
    "print (const.shape)\n",
    "#RFMod = RandomForestClassifier().fit(X, const)\n",
    "\n",
    "\"\"\"\n",
    "def __init__(self, target, NObj, pbounds, constraints=[],\n",
    "                 verbose=False, Picture=False, TPF=None,\n",
    "                 n_restarts_optimizer=10, Filename=None,\n",
    "                 MetricsPS=True, max_or_min='max', RandomSeed=None,\n",
    "                 kernel=None)\n",
    "\"\"\"\n",
    "\n",
    "# constraints: list of dictionary [{'type': 'ineq', 'fun': constr_fun}, ...], \n",
    "# only inequality constraints are implemented. \n",
    "# constr_fun: \n",
    "counter = 0\n",
    "def constr_fun(X):\n",
    "    #start = time.time()\n",
    "    #print (X[0:1])\n",
    "    #print (type(X))\n",
    "    xx = []\n",
    "    for x in X:\n",
    "        #print (x)\n",
    "        xx.append(x)\n",
    "    xx = np.array((xx)).reshape(1,-1)\n",
    "    #print (xx)\n",
    "    #print (\"next\")\n",
    "    #print (RFMod.predict(xx))\n",
    "    if self.RFMod.predict(xx)==0:\n",
    "        g = -1\n",
    "        #print (\"g: \", g)\n",
    "    else:\n",
    "        g = 1\n",
    "        #print (\"g: \", g)\n",
    "    #print (\"g\", g)\n",
    "    #stop = time.time()\n",
    "    #duration = stop - start\n",
    "    #print('time for each iteration of constraint', duration)\n",
    "    return g\n",
    "# I redefined RF as constraints inside the iterations\n",
    "constraints =  [{'type': 'ineq', 'fun': constr_fun}]\n",
    "\n",
    "\n",
    "# if you minize!!! make sure: max_or_min='min' in mo.MOBayesianOpt\n",
    "Optimizer = mo.MOBayesianOpt(target=objective, classifier=classifier, RF_feature_gen = RF_feature_gen, \n",
    "                             max_or_min='max', constraints=constraints, NObj=NObj, MetricsPS=True,\n",
    "                             pbounds=bounds, verbose = True, Picture=True)\n",
    "                             #Filename=\"MOBOpt.dat\")\n",
    "\n",
    "## initialize probes obj. functions the first random initial points\n",
    "## init_points specifies how many random points\n",
    "#Optimizer.initialize(init_points=50)\n",
    "#plt.show()"
   ]
  },
  {
   "cell_type": "code",
   "execution_count": 5,
   "id": "bbb26d75",
   "metadata": {},
   "outputs": [
    {
     "name": "stdout",
     "output_type": "stream",
     "text": [
      "Added points in init\n",
      "   X0       X1       X2       X3       X4       X5     |    F0       F1       Class   \n",
      "+1.5e-01 +2.0e-01 +2.0e-02 +2.1e-01 +1.8e-01 +2.4e-01  | +4.6e+01 +2.3e+00  | +1.0e+00 \n",
      "+2.5e-01 +3.1e-01 +1.1e-01 +2.0e-02 +1.6e-01 +1.5e-01  | +1.8e+01 +1.2e+01  | +1.0e+00 \n",
      "+6.0e-02 +1.7e-01 +2.7e-01 +1.1e-01 +2.7e-01 +1.2e-01  | +3.3e+01 +6.9e-01  | +1.0e+00 \n",
      "+0.0e+00 +1.0e-01 +3.0e-01 +2.0e-01 +2.0e-01 +2.0e-01  | +2.8e+01 +7.0e-01  | +1.0e+00 \n",
      "+3.5e-01 +3.5e-01 +0.0e+00 +0.0e+00 +1.0e-01 +2.0e-01  | +1.2e+00 +2.1e+00  | +1.0e+00 \n",
      "+1.5e-01 +3.4e-01 +7.0e-02 +1.5e-01 +1.0e-01 +1.9e-01  | +2.9e+01 +2.2e+01  | +1.0e+00 \n",
      "+1.3e-01 +8.0e-02 +1.6e-01 +3.6e-01 +2.0e-02 +2.5e-01  | +2.1e+01 +3.2e-01  | +1.0e+00 \n",
      "+1.4e-01 +8.0e-02 +3.0e-02 +2.6e-01 +2.5e-01 +2.4e-01  | +2.7e+01 +1.1e+00  | +1.0e+00 \n",
      "+0.0e+00 +0.0e+00 +5.0e-01 +0.0e+00 +3.0e-01 +2.0e-01  | +3.5e+01 +6.4e-01  | +1.0e+00 \n",
      "+0.0e+00 +5.0e-02 +0.0e+00 +2.5e-01 +2.0e-01 +5.0e-01  | +2.2e+01 +4.0e-01  | +1.0e+00 \n",
      "+1.0e-01 +0.0e+00 +2.5e-01 +2.5e-01 +2.5e-01 +1.5e-01  | +2.0e+01 +2.3e-01  | +1.0e+00 \n",
      "+1.2e-01 +2.5e-01 +2.3e-01 +2.2e-01 +1.5e-01 +3.0e-02  | +2.9e+01 +4.5e-01  | +1.0e+00 \n",
      "+3.0e-01 +3.0e-01 +1.0e-01 +1.0e-01 +1.0e-01 +1.0e-01  | +9.6e+00 +2.0e+01  | +1.0e+00 \n",
      "+1.0e-01 +8.0e-01 +0.0e+00 +1.0e-01 +0.0e+00 +0.0e+00  | +0.0e+00 +0.0e+00  | +0.0e+00 \n",
      "+8.0e-01 +1.0e-01 +0.0e+00 +1.0e-01 +0.0e+00 +0.0e+00  | +3.7e+00 +4.3e+00  | +1.0e+00 \n",
      "+4.5e-01 +4.5e-01 +0.0e+00 +0.0e+00 +1.0e-01 +0.0e+00  | +5.7e-01 +7.5e-01  | +1.0e+00 \n",
      "+2.0e-01 +7.0e-01 +0.0e+00 +0.0e+00 +0.0e+00 +1.0e-01  | +0.0e+00 +0.0e+00  | +0.0e+00 \n",
      "+3.0e-01 +5.0e-01 +2.0e-01 +0.0e+00 +0.0e+00 +0.0e+00  | +5.3e-01 +7.7e-01  | +1.0e+00 \n",
      "+6.0e-01 +3.5e-01 +5.0e-02 +0.0e+00 +0.0e+00 +0.0e+00  | +5.9e-01 +6.0e-01  | +1.0e+00 \n",
      "+5.0e-01 +5.0e-01 +0.0e+00 +0.0e+00 +0.0e+00 +0.0e+00  | +2.0e-01 +9.0e-02  | +1.0e+00 \n",
      "\n",
      "[[0.15 0.2  0.02 0.21 0.18 0.24]\n",
      " [0.25 0.31 0.11 0.02 0.16 0.15]\n",
      " [0.06 0.17 0.27 0.11 0.27 0.12]\n",
      " [0.   0.1  0.3  0.2  0.2  0.2 ]\n",
      " [0.35 0.35 0.   0.   0.1  0.2 ]\n",
      " [0.15 0.34 0.07 0.15 0.1  0.19]\n",
      " [0.13 0.08 0.16 0.36 0.02 0.25]\n",
      " [0.14 0.08 0.03 0.26 0.25 0.24]\n",
      " [0.   0.   0.5  0.   0.3  0.2 ]\n",
      " [0.   0.05 0.   0.25 0.2  0.5 ]\n",
      " [0.1  0.   0.25 0.25 0.25 0.15]\n",
      " [0.12 0.25 0.23 0.22 0.15 0.03]\n",
      " [0.3  0.3  0.1  0.1  0.1  0.1 ]\n",
      " [0.1  0.8  0.   0.1  0.   0.  ]\n",
      " [0.8  0.1  0.   0.1  0.   0.  ]\n",
      " [0.45 0.45 0.   0.   0.1  0.  ]\n",
      " [0.2  0.7  0.   0.   0.   0.1 ]\n",
      " [0.3  0.5  0.2  0.   0.   0.  ]\n",
      " [0.6  0.35 0.05 0.   0.   0.  ]\n",
      " [0.5  0.5  0.   0.   0.   0.  ]]\n"
     ]
    }
   ],
   "source": [
    "# initialize(init_points=None, Points=None, Y=None)\n",
    "Optimizer.initialize(Points=X, Y=Y, classes = const)\n",
    "# if your initial data is ready\n",
    "#Optimizer.initialize(Points=X, Y=Y)"
   ]
  },
  {
   "cell_type": "code",
   "execution_count": 6,
   "id": "d4d54847",
   "metadata": {},
   "outputs": [
    {
     "name": "stdout",
     "output_type": "stream",
     "text": [
      "Start optimization loop\n",
      "0  of  1\n"
     ]
    },
    {
     "name": "stderr",
     "output_type": "stream",
     "text": [
      "/home/kianoosh/github/ML_Composite_Fibers/_bayes.py:393: DataConversionWarning: A column-vector y was passed when a 1d array was expected. Please change the shape of y to (n_samples,), for example using ravel().\n",
      "  self.RFMod.fit(x_features, self.space.f_classifier)\n",
      "No artists with labels found to put in legend.  Note that artists whose label start with an underscore are ignored when legend() is called with no argument.\n"
     ]
    },
    {
     "name": "stdout",
     "output_type": "stream",
     "text": [
      "after NSGAII\n",
      "pop:  [Individual('d', [0.20865082845426275, 0.30159494766510564, 0.10884851109166677, 0.12007474760353007, 0.10608048042178135, 0.15458043685106843]), Individual('d', [0.1282389317387247, 0.2579781109252965, 0.023050828487666257, 0.18192642424459962, 0.1802234115410084, 0.2290865359344364]), Individual('d', [0.1282389317387247, 0.2579781109252965, 0.023050828487666257, 0.18192642424459962, 0.1802234115410084, 0.2290865359344364]), Individual('d', [0.1486346958084319, 0.30552733719119085, 0.06698474373210692, 0.15227068793878176, 0.14071836288572317, 0.1851857437821079]), Individual('d', [0.1490991762550618, 0.306305684257781, 0.03985882088962485, 0.18192353761416302, 0.1400254153452609, 0.18372586152971218]), Individual('d', [0.1474525652574476, 0.2568312746222104, 0.06952649870463061, 0.18192232863451618, 0.14060631040140412, 0.20278775704252255]), Individual('d', [0.14862289433267376, 0.2876075974313184, 0.038860006218911586, 0.18190714312958642, 0.13970224520851748, 0.20278775704252255]), Individual('d', [0.12394425076550235, 0.30495992056993343, 0.06316126505358718, 0.18067263821921498, 0.14072475327647077, 0.18726361939873104]), Individual('d', [0.1486346958084319, 0.30406123777964494, 0.06717420641103003, 0.1531111410527593, 0.14154474976395115, 0.1864375040903631]), Individual('d', [0.12806810237163474, 0.2605753193830916, 0.022952145647498062, 0.18192306634949992, 0.17947892538244045, 0.22745319539769338]), Individual('d', [0.12048534948915099, 0.25796187244144875, 0.0670153804893738, 0.18192676310253597, 0.16939267925165286, 0.20311982674803283]), Individual('d', [0.12121731466270186, 0.2589778412454669, 0.06875325667317723, 0.18192353420393323, 0.16649049179143083, 0.20278775704252255]), Individual('d', [0.16806652342586875, 0.25754212681249555, 0.06883389782214441, 0.18192371376201305, 0.1410312754816159, 0.1835686704977331]), Individual('d', [0.148191255098344, 0.2604755715473795, 0.06692945935413072, 0.18192695068595152, 0.13974936343619804, 0.20242796466587268]), Individual('d', [0.1486346958084319, 0.30552733719119085, 0.06698474373210692, 0.15227068793878176, 0.14071836288572317, 0.1851857437821079]), Individual('d', [0.12121731466270186, 0.2589778412454669, 0.06875325667317723, 0.18192353420393323, 0.16649049179143083, 0.20278775704252255]), Individual('d', [0.1483480226061921, 0.28690891778600985, 0.03963649454611031, 0.18192231624645297, 0.13970825586058533, 0.20278775704252255]), Individual('d', [0.12402041121129004, 0.3049959193390101, 0.06683089774399374, 0.17635291901010577, 0.14102526547791222, 0.1875122336332189]), Individual('d', [0.16777822580017165, 0.2580176091629379, 0.06883988192773388, 0.1822709346540958, 0.14071483472415086, 0.18197469493526044]), Individual('d', [0.12395753131414677, 0.3049959193390101, 0.06697247099190863, 0.17633504889686225, 0.14102526547791222, 0.1875122336332189]), Individual('d', [0.12394425076550235, 0.30512175702271993, 0.06316126505358718, 0.18067263821921498, 0.14072475327647077, 0.18726361939873104]), Individual('d', [0.12806810237163474, 0.2605753193830916, 0.022952145647498062, 0.18192306634949992, 0.17947892538244045, 0.22745319539769338]), Individual('d', [0.12048534948915099, 0.25796187244144875, 0.0670153804893738, 0.18192676310253597, 0.16939267925165286, 0.20311982674803283]), Individual('d', [0.12899385269031738, 0.25903541037644656, 0.022952086950031515, 0.18192360588714057, 0.17947892538244045, 0.22784969145975095]), Individual('d', [0.12144519320045627, 0.2589778412454669, 0.06875325667317723, 0.18192353420393323, 0.16663810414265073, 0.20278775704252255]), Individual('d', [0.14743700129633622, 0.3049876043960304, 0.06949022581439415, 0.15335825150435328, 0.1407199865289032, 0.18465708025915525]), Individual('d', [0.12102814990500727, 0.2589778412454669, 0.06744450464410064, 0.17916009012972894, 0.170049239518477, 0.20278775704252255]), Individual('d', [0.1281318802827165, 0.2586120822450819, 0.022931323907597397, 0.1819579553056626, 0.17916625185559698, 0.2290974490998367]), Individual('d', [0.14743700129633622, 0.30495936741662366, 0.06717866477199907, 0.15335825150435328, 0.1415393776540305, 0.18475304428760878]), Individual('d', [0.12899385269031738, 0.25903541037644656, 0.022952086950031515, 0.18192360588714057, 0.17947892538244045, 0.22784969145975095]), Individual('d', [0.16803702762065226, 0.25754212681249555, 0.06883039412214885, 0.18191250164987133, 0.1410312754816159, 0.18211005482039977]), Individual('d', [0.1486346958084319, 0.30406123777964494, 0.06717461677728657, 0.1531111410527593, 0.14154474976395115, 0.1852287929372569]), Individual('d', [0.14909942121652756, 0.28690891778600985, 0.03963649454611031, 0.18192230205034654, 0.13971617334971748, 0.20278775704252255]), Individual('d', [0.12113709394247239, 0.25897779473245486, 0.06692911130610629, 0.18192359349973025, 0.16844934309869397, 0.20278775704252255]), Individual('d', [0.1490991762550618, 0.25962312897129713, 0.06701545190700055, 0.18192353761416302, 0.1400254153452609, 0.20278760371450838]), Individual('d', [0.12784044235630174, 0.26053944104935917, 0.022952086950031515, 0.18192673090284553, 0.17953394701070446, 0.22798671084739858]), Individual('d', [0.14812425028456705, 0.2604755715473795, 0.06692945935413072, 0.18192695068595152, 0.13974936343619804, 0.20295835604516332]), Individual('d', [0.1490991762550618, 0.2581247405661612, 0.06634428943986805, 0.18192353656776342, 0.14077629648245238, 0.20278775704252255]), Individual('d', [0.12824409765116979, 0.25798807329021706, 0.02305199113768215, 0.1819579553056626, 0.17916625185559698, 0.22908688241434136]), Individual('d', [0.1474525652574476, 0.257540449938424, 0.06952649870463061, 0.1819125618714256, 0.1406074575636676, 0.20368835145190867]), Individual('d', [0.12784044235630174, 0.26053944104935917, 0.022952086950031515, 0.18192673090284553, 0.17953394701070446, 0.22798671084739858]), Individual('d', [0.12102814990500727, 0.2589778412454669, 0.0670153804893738, 0.18192353761416302, 0.16922469701586915, 0.20278775704252255]), Individual('d', [0.1481796113185746, 0.25994415369519874, 0.06692978322958973, 0.18302494823434318, 0.13974936343619804, 0.2024284008092047]), Individual('d', [0.12098008779106395, 0.2581357345057294, 0.06692978301978529, 0.18211610831838265, 0.1681605344199113, 0.20278775704252255]), Individual('d', [0.1474726057296015, 0.25873897758120884, 0.06955127504077464, 0.1812295323293567, 0.14071596891641025, 0.20216567760198245]), Individual('d', [0.14743700129633622, 0.30571279637267734, 0.06886400338684148, 0.15335825150435328, 0.1407198080455644, 0.18407722653232025]), Individual('d', [0.1474726057296015, 0.2583568108918447, 0.06958173276313519, 0.1812295323293567, 0.1415175300884997, 0.20216567760198245]), Individual('d', [0.14741821780820177, 0.25833474926350947, 0.06967049248581762, 0.18192695068595152, 0.13979527384802556, 0.20301852037524712]), Individual('d', [0.1486346958084319, 0.3049959193390101, 0.06717420641103003, 0.15335825150435328, 0.14071836288572317, 0.1851861799254399]), Individual('d', [0.12102814990500727, 0.2589778412454669, 0.0674586643178626, 0.17931166306277152, 0.170049239518477, 0.20278775704252255]), Individual('d', [0.12395753131414677, 0.3049959193390101, 0.06697247099190863, 0.17633504889686225, 0.14102526547791222, 0.1875122336332189]), Individual('d', [0.14740972583245826, 0.2583568108918447, 0.06972330601105008, 0.18121166221611315, 0.1415175300884997, 0.20216567760198245]), Individual('d', [0.12394425076550235, 0.30512175702271993, 0.06316126505358718, 0.18067263821921498, 0.14072475327647077, 0.18726361939873104]), Individual('d', [0.12087170251825037, 0.25801712420599876, 0.06701402335951112, 0.18192676310253597, 0.16922469701586915, 0.20278775704252255]), Individual('d', [0.1486346958084319, 0.30406123777964494, 0.06717420641103003, 0.15149815795291327, 0.14154474976395115, 0.1864375040903631]), Individual('d', [0.1209749300949001, 0.25811936774986927, 0.06692972972064379, 0.18192668896036948, 0.16865137548923345, 0.2031259317301855]), Individual('d', [0.16788590241924037, 0.25800776844378503, 0.06950867214036789, 0.1822649925838703, 0.14167163537490338, 0.18146455508773113]), Individual('d', [0.1474525652574476, 0.2568312746222104, 0.06954841419412636, 0.18192232863451618, 0.14060807362556488, 0.20278775704252255]), Individual('d', [0.14743700129633622, 0.30531916286797994, 0.06949022581439415, 0.15335825150435328, 0.1407199876467553, 0.18407722653232025]), Individual('d', [0.1474726057296015, 0.2583568108918447, 0.06958173276313519, 0.1812295323293567, 0.14071596891641025, 0.20216567760198245]), Individual('d', [0.1490991762550618, 0.2589778412454669, 0.06692911130610629, 0.18192353761416302, 0.1396858040629218, 0.20278775704252255]), Individual('d', [0.12096415526165913, 0.2589587698564529, 0.06691502222404243, 0.1819267539683846, 0.16922469701586915, 0.20278775704252255]), Individual('d', [0.1490991762550618, 0.2596250611298068, 0.06689573592846719, 0.18192380411021042, 0.1400173558206944, 0.20278775704252255]), Individual('d', [0.1474525652574476, 0.25753988785488413, 0.06873507085132476, 0.18192645651919337, 0.1406037336656537, 0.20278775704252255]), Individual('d', [0.1282389317387247, 0.2579781109252965, 0.023050828487666257, 0.18192642424459962, 0.17992628820846374, 0.2290865359344364]), Individual('d', [0.1481796113185746, 0.2604755715473795, 0.06692978322958973, 0.18211551637230136, 0.13974936343619804, 0.20242796466587268]), Individual('d', [0.12098008779106395, 0.25812679301185243, 0.06692978630849777, 0.18192353761416302, 0.1686527323139849, 0.20278775704252255]), Individual('d', [0.14743700129633622, 0.30572461157334974, 0.06949022581439415, 0.15335825150435328, 0.1407199876467553, 0.18407722653232025]), Individual('d', [0.14743700129633622, 0.30495936741662366, 0.06717866477199907, 0.15335825150435328, 0.1415393776540305, 0.18475304428760878]), Individual('d', [0.14862452426364206, 0.30552733719119085, 0.06717420641103003, 0.15244881964231144, 0.14072001200053455, 0.1851857437821079]), Individual('d', [0.12807344548957045, 0.26053944104935917, 0.022952086950031515, 0.18192360588714057, 0.17947892538244045, 0.22798671084739858]), Individual('d', [0.1490991762550618, 0.25896236779288917, 0.06692911130610629, 0.18192359349973025, 0.1400173558206944, 0.20278775704252255]), Individual('d', [0.1474525652574476, 0.25756615671179506, 0.06952649870463061, 0.18192232863451618, 0.1406037336656537, 0.20278775704252255]), Individual('d', [0.1281318802827165, 0.258357976233029, 0.022931323907597397, 0.1819579553056626, 0.17916625185559698, 0.2290974490998367]), Individual('d', [0.12048534948915099, 0.25801712420599876, 0.0670153804893738, 0.18192676310253597, 0.16922469701586915, 0.20278775704252255]), Individual('d', [0.12806810237163474, 0.26053944104935917, 0.022952086950031515, 0.18192360588714057, 0.17947892538244045, 0.22748989908310105]), Individual('d', [0.14743700129633622, 0.3049959193390101, 0.06949022581439415, 0.15335825150435328, 0.1407199876467553, 0.18465708025915525]), Individual('d', [0.1491053616372572, 0.25898548162349505, 0.06692978322958973, 0.18211551637230136, 0.13974936343619804, 0.20278775704252255]), Individual('d', [0.1474726057296015, 0.25873897758120884, 0.06955127504077464, 0.1812295323293567, 0.14101309224895492, 0.20216567760198245]), Individual('d', [0.14749502291180894, 0.25799036695995764, 0.06873507085132476, 0.18192228327874466, 0.1406037336656537, 0.20278775704252255]), Individual('d', [0.14747334819079813, 0.25873897758120884, 0.06955127504077464, 0.18123594549163718, 0.1410160575242754, 0.20216567760198245]), Individual('d', [0.1281318802827165, 0.258357976233029, 0.022931323907597397, 0.1819579553056626, 0.17916625185559698, 0.2290974490998367]), Individual('d', [0.16803702762065226, 0.25754212681249555, 0.0694566165497015, 0.18191250164987133, 0.1410314550828068, 0.18211005482039977]), Individual('d', [0.14744717284112605, 0.30531916286797994, 0.06949022581439415, 0.15335825150435328, 0.1407183385319439, 0.18407722653232025]), Individual('d', [0.12058332611347362, 0.25801712420599876, 0.06703205593873657, 0.18191134900875175, 0.16922469701586915, 0.2031756400490054]), Individual('d', [0.14749502291180894, 0.25801055149432606, 0.06882930420067652, 0.1822649925838703, 0.1406037336656537, 0.20278775704252255]), Individual('d', [0.14812425028456705, 0.2604755715473795, 0.06692945935413072, 0.18192695068595152, 0.13974936343619804, 0.20295835604516332]), Individual('d', [0.1474525652574476, 0.25756615671179506, 0.0695265949686054, 0.18192232863451618, 0.14071525086182848, 0.20278447137039052]), Individual('d', [0.12394425076550235, 0.3051198801559615, 0.06316126505358718, 0.18067263821921498, 0.14072475327647077, 0.18726361939873104]), Individual('d', [0.14744717284112605, 0.30531916286797994, 0.06949022581439415, 0.15335825150435328, 0.1407183385319439, 0.18407722653232025]), Individual('d', [0.12113709394247239, 0.25897779473245486, 0.06692911130610629, 0.18192359349973025, 0.16844934309869397, 0.20278775704252255]), Individual('d', [0.1208521544706865, 0.2581071308072299, 0.06692978630849777, 0.18192353761416302, 0.16871794298920573, 0.20278775704252255]), Individual('d', [0.1490060281544569, 0.2589783482729801, 0.06707141620386373, 0.18192353761416302, 0.14107837132410958, 0.20278775704252255]), Individual('d', [0.14749502291180894, 0.25801055149432606, 0.0688675102551936, 0.1822649925838703, 0.1406037336656537, 0.20278775704252255]), Individual('d', [0.14749502291180894, 0.25799036695995764, 0.06873507085132476, 0.18192232863451618, 0.1406037336656537, 0.20278775704252255]), Individual('d', [0.12048534948915099, 0.25798670169966154, 0.0670153804893738, 0.18192325954604122, 0.16923871250595238, 0.2031177619961902]), Individual('d', [0.1486346958084319, 0.3049959193390101, 0.06717420641103003, 0.15335825150435328, 0.14071836288572317, 0.1851861799254399]), Individual('d', [0.1474969524144358, 0.2575314073545672, 0.06886827995267719, 0.1819282436763486, 0.1406037336656537, 0.20278775704252255]), Individual('d', [0.1282389317387247, 0.2579781109252965, 0.023050828487666257, 0.18192642424459962, 0.17992628820846374, 0.2290865359344364]), Individual('d', [0.12102814990500727, 0.2589778412454669, 0.06744450464410064, 0.17916009012972894, 0.170049239518477, 0.20278775704252255])]\n",
      "front [[-24.76070487 -19.40402491]\n",
      " [-43.50483484  -6.8250778 ]\n",
      " [-43.50483484  -6.8250778 ]\n",
      " [-35.23274478 -17.80073958]\n",
      " [-35.9300052  -15.50881007]\n",
      " [-41.17104143 -11.67351055]\n",
      " [-38.67741739 -13.62570944]\n",
      " [-37.30400146 -15.18309698]\n",
      " [-35.508514   -17.58900219]\n",
      " [-43.27584639  -7.08770319]\n",
      " [-42.87232124  -9.2357188 ]\n",
      " [-42.70863251  -9.5451426 ]\n",
      " [-38.89213084 -12.67643248]\n",
      " [-40.88444633 -12.06099356]\n",
      " [-35.23274478 -17.80073958]\n",
      " [-42.70863251  -9.5451426 ]\n",
      " [-38.76792231 -13.59905103]\n",
      " [-37.21301158 -15.47722439]\n",
      " [-38.77700572 -12.74703272]\n",
      " [-37.21351011 -15.47625446]\n",
      " [-37.28831534 -15.19337868]\n",
      " [-43.27584639  -7.08770319]\n",
      " [-42.87232124  -9.2357188 ]\n",
      " [-43.39608126  -6.98757309]\n",
      " [-42.71070924  -9.54433683]\n",
      " [-35.37229427 -17.73552229]\n",
      " [-42.72488172  -9.41697434]\n",
      " [-43.45419696  -6.91308106]\n",
      " [-35.41984206 -17.63080723]\n",
      " [-43.39608126  -6.98757309]\n",
      " [-38.80183741 -12.7057493 ]\n",
      " [-35.4524096  -17.60831848]\n",
      " [-38.73339464 -13.61666256]\n",
      " [-42.77740263  -9.40008175]\n",
      " [-40.92803425 -11.97618916]\n",
      " [-43.28939694  -7.05926176]\n",
      " [-40.91022278 -12.04090293]\n",
      " [-41.07960927 -11.77985767]\n",
      " [-43.50415611  -6.87748736]\n",
      " [-41.16418723 -11.7113515 ]\n",
      " [-43.28939694  -7.05926176]\n",
      " [-42.79013447  -9.35131284]\n",
      " [-40.95141297 -11.95216433]\n",
      " [-42.83084924  -9.33877565]\n",
      " [-41.00849599 -11.90865535]\n",
      " [-35.2783499  -17.78660098]\n",
      " [-41.07714002 -11.82949334]\n",
      " [-41.0386254  -11.85398042]\n",
      " [-35.33501295 -17.73889728]\n",
      " [-42.72885191  -9.4113092 ]\n",
      " [-37.21351011 -15.47625446]\n",
      " [-41.07676981 -11.83076852]\n",
      " [-37.28831534 -15.19337868]\n",
      " [-42.85166091  -9.27177385]\n",
      " [-35.42919108 -17.62760576]\n",
      " [-42.84978068  -9.30693054]\n",
      " [-38.78061672 -12.71646176]\n",
      " [-41.17071511 -11.67373842]\n",
      " [-35.31453547 -17.76665485]\n",
      " [-41.0323754  -11.87217911]\n",
      " [-40.95215606 -11.93014979]\n",
      " [-42.79322547  -9.34605566]\n",
      " [-40.92944363 -11.97473969]\n",
      " [-41.14158754 -11.7299079 ]\n",
      " [-43.50473128  -6.83987562]\n",
      " [-40.89042726 -12.05091984]\n",
      " [-42.8356608   -9.3167089 ]\n",
      " [-35.27697535 -17.7953677 ]\n",
      " [-35.41984206 -17.63080723]\n",
      " [-35.24219854 -17.79914868]\n",
      " [-43.28801676  -7.06664614]\n",
      " [-40.97228726 -11.91118223]\n",
      " [-41.12482307 -11.74447316]\n",
      " [-43.47342831  -6.89596637]\n",
      " [-42.8526935   -9.25865841]\n",
      " [-43.27931095  -7.08398492]\n",
      " [-35.3715253  -17.736118  ]\n",
      " [-40.96061738 -11.91784395]\n",
      " [-41.02516447 -11.89283625]\n",
      " [-41.11095525 -11.77465906]\n",
      " [-41.0254848  -11.89237406]\n",
      " [-43.47342831  -6.89596637]\n",
      " [-38.79361045 -12.71513652]\n",
      " [-35.31393779 -17.76717276]\n",
      " [-42.86733628  -9.25260673]\n",
      " [-41.11771534 -11.76063388]\n",
      " [-40.91022278 -12.04090293]\n",
      " [-41.13098319 -11.73873547]\n",
      " [-37.28849734 -15.19325963]\n",
      " [-35.31393779 -17.76717276]\n",
      " [-42.77740263  -9.40008175]\n",
      " [-42.83846426  -9.30696502]\n",
      " [-41.03359244 -11.85642619]\n",
      " [-41.11700264 -11.76121415]\n",
      " [-41.11095656 -11.77465677]\n",
      " [-42.86798186  -9.2469222 ]\n",
      " [-35.33501295 -17.73889728]\n",
      " [-41.13768612 -11.73219058]\n",
      " [-43.50473128  -6.83987562]\n",
      " [-42.72488172  -9.41697434]]\n",
      "IF =  18  IP =  1  Try =  32\n",
      "Front at =  [38.73339464 13.61666256]\n",
      "x_try:  [0.14909942 0.28690892 0.03963649 0.1819223  0.13971617 0.20278776]\n",
      "x_features_try:      MolWt_RD  HeavyAtomCount_RD  HeavyAtomMolWt_RD  NumHAcceptors_RD  \\\n",
      "0  33.135855           2.385591          31.031764          0.596398   \n",
      "1  52.871288           3.729816          47.087205          0.573818   \n",
      "2   4.405359           0.317092           4.045776          0.039636   \n",
      "3  13.109867           0.909612          12.376356          0.181922   \n",
      "4  16.085802           1.117729          14.818297          0.279432   \n",
      "5  42.240893           3.041816          38.152691          0.405576   \n",
      "\n",
      "   NumHDonors_RD  NumHeteroatoms_RD  NumRotatableBonds_RD  \\\n",
      "0       0.149099           0.596398              0.894597   \n",
      "1       0.000000           0.573818              2.008362   \n",
      "2       0.000000           0.079273              0.039636   \n",
      "3       0.181922           0.363845              0.181922   \n",
      "4       0.279432           0.419149              0.419149   \n",
      "5       0.000000           0.405576              0.405576   \n",
      "\n",
      "   NumValenceElectrons_RD  NumAromaticRings_RD  NumSaturatedRings_RD  \\\n",
      "0               12.822550             0.149099              0.000000   \n",
      "1               21.805078             0.000000              0.000000   \n",
      "2                1.744006             0.000000              0.039636   \n",
      "3                5.093824             0.000000              0.000000   \n",
      "4                6.426944             0.000000              0.000000   \n",
      "5               17.034172             0.000000              0.405576   \n",
      "\n",
      "   NumAliphaticRings_RD  NumRadicalElectrons_RD  NumAliphaticCarbocycles_RD  \\\n",
      "0              0.000000                     0.0                    0.000000   \n",
      "1              0.000000                     0.0                    0.000000   \n",
      "2              0.039636                     0.0                    0.000000   \n",
      "3              0.000000                     0.0                    0.000000   \n",
      "4              0.000000                     0.0                    0.000000   \n",
      "5              0.405576                     0.0                    0.405576   \n",
      "\n",
      "   NumAliphaticHeterocycles_RD  NumAromaticCarbocycles_RD  \\\n",
      "0                     0.000000                   0.149099   \n",
      "1                     0.000000                   0.000000   \n",
      "2                     0.039636                   0.000000   \n",
      "3                     0.000000                   0.000000   \n",
      "4                     0.000000                   0.000000   \n",
      "5                     0.000000                   0.000000   \n",
      "\n",
      "   NumAromaticHeterocycles_RD  NumSaturatedCarbocycles_RD  \\\n",
      "0                         0.0                    0.000000   \n",
      "1                         0.0                    0.000000   \n",
      "2                         0.0                    0.000000   \n",
      "3                         0.0                    0.000000   \n",
      "4                         0.0                    0.000000   \n",
      "5                         0.0                    0.405576   \n",
      "\n",
      "   NumSaturatedHeterocycles_RD  \n",
      "0                     0.000000  \n",
      "1                     0.000000  \n",
      "2                     0.039636  \n",
      "3                     0.000000  \n",
      "4                     0.000000  \n",
      "5                     0.000000  \n"
     ]
    },
    {
     "name": "stdout",
     "output_type": "stream",
     "text": [
      "ratios A-F [0.15 0.29 0.04 0.18 0.14 0.2 ] sum 1.0 Enter Tensile Str. [Mpa]: 50\n",
      "Enter Toughness in Mpa: 10\n",
      "Enter the class: 1\n",
      "|PF| =    2 at    1 of    1, w/ r = 0.10\n",
      "time duration:  214.65530681610107\n"
     ]
    },
    {
     "data": {
      "image/png": "[encoded data removed]",
      "text/plain": [
       "<Figure size 432x288 with 1 Axes>"
      ]
     },
     "metadata": {
      "needs_background": "light"
     },
     "output_type": "display_data"
    }
   ],
   "source": [
    "NIter = 1\n",
    "\n",
    "# front = np.array of shape (nPts, NObj) --> Pareto Front (obj space)\n",
    "# pop = np.array of shape (nPts, NParam) --> Pareto Set (search space)\n",
    "\"\"\"\n",
    "# see default values for the function\n",
    "maximize(self,\n",
    "                 n_iter=100,\n",
    "                 prob=0.1,\n",
    "                 ReduceProb=False,\n",
    "                 q=0.5,\n",
    "                 n_pts=100,\n",
    "                 SaveInterval=10,\n",
    "                 FrontSampling=[10, 25, 50, 100])\n",
    "\"\"\"\n",
    "# return front and pop from surrogate and all Evaluated samples [X][y], accordingly\n",
    "front, pop, eval_y, eval_x = Optimizer.maximize(n_iter=NIter, n_pts=100, prob=0.1)\n"
   ]
  },
  {
   "cell_type": "code",
   "execution_count": 36,
   "id": "4d725ea4",
   "metadata": {},
   "outputs": [
    {
     "data": {
      "image/png": "[encoded data removed]",
      "text/plain": [
       "<Figure size 432x288 with 1 Axes>"
      ]
     },
     "metadata": {
      "needs_background": "light"
     },
     "output_type": "display_data"
    },
    {
     "data": {
      "image/png": "[encoded data removed]",
      "text/plain": [
       "<Figure size 432x288 with 1 Axes>"
      ]
     },
     "metadata": {
      "needs_background": "light"
     },
     "output_type": "display_data"
    }
   ],
   "source": [
    "# Front calculated from GPs. vs. initial samples\n",
    "plt.scatter(-front[:,0], -front[:,1], color='blue', marker = '*')\n",
    "plt.scatter(Y[:,0], Y[:,1], color='red')\n",
    "plt.xlabel('Tensile Strength (MPa)')\n",
    "plt.ylabel('Toughness MPa or MJ.m-3')\n",
    "plt.title ('Front from GPs vs. Initial points')\n",
    "plt.savefig(\"GPsPF_evaluated.png\", dpi=400)\n",
    "plt.show()\n",
    "#showing evaluated samples vs. initial training\n",
    "# remove the training samples from Evaluated matrices\n",
    "num_initial = X.shape [0]\n",
    "plt.scatter(eval_y[num_initial:,0], eval_y[num_initial:,1], marker = \"*\", color='blue')\n",
    "plt.scatter(Y[:,0], Y[:,1], color='red')\n",
    "plt.title('evaluated vs. initial points')\n",
    "plt.xlabel('Tensile Strength (MPa)')\n",
    "plt.ylabel('Toughness MJ.m-3')\n",
    "plt.savefig(\"evaluated_init.png\", dpi=400)\n",
    "plt.show()"
   ]
  },
  {
   "cell_type": "code",
   "execution_count": 37,
   "id": "30c6289a",
   "metadata": {},
   "outputs": [
    {
     "data": {
      "text/plain": [
       "array([[0.15, 0.2 , 0.02, 0.21, 0.18, 0.24],\n",
       "       [0.25, 0.31, 0.11, 0.02, 0.16, 0.15],\n",
       "       [0.06, 0.17, 0.27, 0.11, 0.27, 0.12],\n",
       "       [0.  , 0.1 , 0.3 , 0.2 , 0.2 , 0.2 ],\n",
       "       [0.35, 0.35, 0.  , 0.  , 0.1 , 0.2 ],\n",
       "       [0.15, 0.34, 0.07, 0.15, 0.1 , 0.19],\n",
       "       [0.13, 0.08, 0.16, 0.36, 0.02, 0.25],\n",
       "       [0.14, 0.08, 0.03, 0.26, 0.25, 0.24],\n",
       "       [0.  , 0.  , 0.5 , 0.  , 0.3 , 0.2 ],\n",
       "       [0.  , 0.05, 0.  , 0.25, 0.2 , 0.5 ],\n",
       "       [0.1 , 0.  , 0.25, 0.25, 0.25, 0.15],\n",
       "       [0.12, 0.25, 0.23, 0.22, 0.15, 0.03],\n",
       "       [0.3 , 0.3 , 0.1 , 0.1 , 0.1 , 0.1 ],\n",
       "       [0.1 , 0.8 , 0.  , 0.1 , 0.  , 0.  ],\n",
       "       [0.8 , 0.1 , 0.  , 0.1 , 0.  , 0.  ],\n",
       "       [0.45, 0.45, 0.  , 0.  , 0.1 , 0.  ],\n",
       "       [0.2 , 0.7 , 0.  , 0.  , 0.  , 0.1 ],\n",
       "       [0.3 , 0.5 , 0.2 , 0.  , 0.  , 0.  ],\n",
       "       [0.6 , 0.35, 0.05, 0.  , 0.  , 0.  ],\n",
       "       [0.5 , 0.5 , 0.  , 0.  , 0.  , 0.  ]])"
      ]
     },
     "execution_count": 37,
     "metadata": {},
     "output_type": "execute_result"
    }
   ],
   "source": [
    "X"
   ]
  },
  {
   "cell_type": "code",
   "execution_count": 51,
   "id": "93548e45",
   "metadata": {},
   "outputs": [
    {
     "name": "stdout",
     "output_type": "stream",
     "text": [
      "[0.57970074 0.23462096 0.12181334]\n",
      "[1.30938464 0.83300714 0.60022315]\n"
     ]
    },
    {
     "data": {
      "text/plain": [
       "<matplotlib.collections.PathCollection at 0x7efbc6363c90>"
      ]
     },
     "execution_count": 51,
     "metadata": {},
     "output_type": "execute_result"
    },
    {
     "data": {
      "image/png": "[encoded data removed]",
      "text/plain": [
       "<Figure size 432x288 with 1 Axes>"
      ]
     },
     "metadata": {
      "needs_background": "light"
     },
     "output_type": "display_data"
    }
   ],
   "source": [
    "#PCA from Ratios \n",
    "pca = PCA(n_components=3, svd_solver='full')\n",
    "pca.fit(X)\n",
    "print(pca.explained_variance_ratio_)\n",
    "print(pca.singular_values_)\n",
    "\n",
    "pca_X = pca.transform(X)\n",
    "pca_eval_x = pca.transform(eval_x[num_initial:,:])\n",
    "plt.scatter(pca_X[:,0], pca_X[:,1], color='red')\n",
    "plt.scatter(pca_eval_x[:,0], pca_eval_x[:,1], color='blue', marker=11)"
   ]
  },
  {
   "cell_type": "code",
   "execution_count": null,
   "id": "c37b50a8",
   "metadata": {},
   "outputs": [],
   "source": []
  },
  {
   "cell_type": "code",
   "execution_count": 140,
   "id": "e2cd0d25",
   "metadata": {},
   "outputs": [
    {
     "data": {
      "image/png": "[encoded data removed]",
      "text/plain": [
       "<Figure size 432x288 with 1 Axes>"
      ]
     },
     "metadata": {
      "needs_background": "light"
     },
     "output_type": "display_data"
    },
    {
     "data": {
      "image/png": "[encoded data removed]",
      "text/plain": [
       "<Figure size 432x288 with 1 Axes>"
      ]
     },
     "metadata": {
      "needs_background": "light"
     },
     "output_type": "display_data"
    }
   ],
   "source": [
    "# PCA of Ratios of Training and Human decied samples before optimization starts \n",
    "df = pd.read_csv('Modified_Kia_20220505.csv')\n",
    "#df = pd.read_csv('Imaginery_initial_.csv')\n",
    "#X_ = df.to_numpy()\n",
    "A_Ratio = np.asarray (df['R1(HA)']).reshape(1,-1)\n",
    "B_Ratio = np.asarray (df['R2(IA)']).reshape(1,-1)\n",
    "C_Ratio = np.asarray (df['R3(NVP)']).reshape(1,-1)\n",
    "D_Ratio = np.asarray (df['R4(AA)']).reshape(1,-1)\n",
    "E_Ratio = np.asarray (df['R5(HEAA)']).reshape(1,-1)\n",
    "F_Ratio = np.asarray (df['R6(IBOA)']).reshape(1,-1)\n",
    "X_future = np.concatenate((A_Ratio.T, B_Ratio.T, C_Ratio.T, D_Ratio.T, E_Ratio.T, F_Ratio.T), \n",
    "                    axis=1)\n",
    "\n",
    "fig = plt.figure()\n",
    "ax = fig.add_subplot(projection='3d')\n",
    "pca_X_future = pca.transform(X_future)\n",
    "\n",
    "ax.scatter(pca_X_future[:,0], pca_X_future[:,1], color='red')\n",
    "            \n",
    "ax.scatter(pca_X[:,0], 2*pca_X[:,1], pca_X[:,2], marker='*', color = 'blue')\n",
    "\n",
    "plt.savefig(\"3d_PCAratios_Initial_Humandecided.png\", dpi=400)\n",
    "plt.show()\n",
    "\n",
    "plt.scatter(pca_X[:,0], pca_X[:,1], color='red')\n",
    "\n",
    "plt.scatter(pca_X_future[:,0], pca_X_future[:,1], color='blue', marker=11)\n",
    "plt.show()"
   ]
  },
  {
   "cell_type": "code",
   "execution_count": 28,
   "id": "eb6ef1f6",
   "metadata": {},
   "outputs": [
    {
     "data": {
      "image/png": "[encoded data removed]",
      "text/plain": [
       "<Figure size 432x288 with 1 Axes>"
      ]
     },
     "metadata": {
      "needs_background": "light"
     },
     "output_type": "display_data"
    },
    {
     "data": {
      "image/png": "[encoded data removed]",
      "text/plain": [
       "<Figure size 432x288 with 1 Axes>"
      ]
     },
     "metadata": {
      "needs_background": "light"
     },
     "output_type": "display_data"
    }
   ],
   "source": [
    "# 3D Scatter plot of x=PC1, y=PC2, z=Strength, PCA on Ratios\n",
    "fig = plt.figure()\n",
    "ax = fig.add_subplot(projection='3d')\n",
    "ax.scatter(pca_eval_x[:,0], pca_eval_x[:,1], eval_y[num_initial:,0], marker='*', color = 'blue')\n",
    "ax.scatter(pca_X[:,0], pca_X[:,1], Y[:,0], marker=5, color = 'red')\n",
    "ax.set_xlabel('PC1')\n",
    "ax.set_ylabel('PC2')\n",
    "ax.set_zlabel('Toughness')\n",
    "plt.savefig(\"3d_PCAratios_Strength.png\", dpi=400)\n",
    "plt.show()\n",
    "\n",
    "# 3D Scatter plot of x=PC1, y=PC2, z=Toughness, PCA on Ratios\n",
    "fig = plt.figure()\n",
    "ax = fig.add_subplot(projection='3d')\n",
    "ax.scatter(pca_eval_x[:,0], pca_eval_x[:,1], eval_y[num_initial:,1], marker=\"*\", color = 'blue')\n",
    "ax.scatter(pca_X[:,0], pca_X[:,1], Y[:,1], marker=5, color = 'red')\n",
    "ax.set_xlabel('PC1')\n",
    "ax.set_ylabel('PC2')\n",
    "ax.set_zlabel('Toughness')\n",
    "plt.savefig(\"3d_PCAratios_Toughness.png\", dpi=400)\n",
    "plt.show()"
   ]
  },
  {
   "cell_type": "code",
   "execution_count": 29,
   "id": "6540c8ce",
   "metadata": {},
   "outputs": [
    {
     "data": {
      "image/png": "[encoded data removed]",
      "text/plain": [
       "<Figure size 432x288 with 1 Axes>"
      ]
     },
     "metadata": {
      "needs_background": "light"
     },
     "output_type": "display_data"
    }
   ],
   "source": [
    "from mpl_toolkits import mplot3d\n",
    "\n",
    "fig = plt.figure()\n",
    "ax = fig.add_subplot(projection='3d')\n",
    "ax.scatter3D(pca_eval_x[:,0], pca_eval_x[:,1], eval_y[num_initial:,1], marker=\"*\", color = 'blue')\n",
    "ax.scatter3D(pca_X[:,0], pca_X[:,1], Y[:,1], marker=5, color = 'red')\n",
    "ax.set_xlabel('PC1')\n",
    "ax.set_ylabel('PC2')\n",
    "ax.set_zlabel('Toughness')\n",
    "plt.savefig(\"3d_PCAratios_Toughness.png\", dpi=400)\n",
    "plt.show()"
   ]
  },
  {
   "cell_type": "code",
   "execution_count": 30,
   "id": "ecbfc1ec",
   "metadata": {},
   "outputs": [
    {
     "data": {
      "text/plain": [
       "array([[0.15, 0.2 , 0.02, 0.21, 0.18, 0.24],\n",
       "       [0.25, 0.31, 0.11, 0.02, 0.16, 0.15],\n",
       "       [0.06, 0.17, 0.27, 0.11, 0.27, 0.12],\n",
       "       [0.  , 0.1 , 0.3 , 0.2 , 0.2 , 0.2 ],\n",
       "       [0.35, 0.35, 0.  , 0.  , 0.1 , 0.2 ],\n",
       "       [0.15, 0.34, 0.07, 0.15, 0.1 , 0.19],\n",
       "       [0.13, 0.08, 0.16, 0.36, 0.02, 0.25],\n",
       "       [0.14, 0.08, 0.03, 0.26, 0.25, 0.24],\n",
       "       [0.  , 0.  , 0.5 , 0.  , 0.3 , 0.2 ],\n",
       "       [0.  , 0.05, 0.  , 0.25, 0.2 , 0.5 ],\n",
       "       [0.1 , 0.  , 0.25, 0.25, 0.25, 0.15],\n",
       "       [0.12, 0.25, 0.23, 0.22, 0.15, 0.03],\n",
       "       [0.3 , 0.3 , 0.1 , 0.1 , 0.1 , 0.1 ],\n",
       "       [0.1 , 0.8 , 0.  , 0.1 , 0.  , 0.  ],\n",
       "       [0.8 , 0.1 , 0.  , 0.1 , 0.  , 0.  ],\n",
       "       [0.45, 0.45, 0.  , 0.  , 0.1 , 0.  ],\n",
       "       [0.2 , 0.7 , 0.  , 0.  , 0.  , 0.1 ],\n",
       "       [0.3 , 0.5 , 0.2 , 0.  , 0.  , 0.  ],\n",
       "       [0.6 , 0.35, 0.05, 0.  , 0.  , 0.  ],\n",
       "       [0.5 , 0.5 , 0.  , 0.  , 0.  , 0.  ],\n",
       "       [0.15, 0.29, 0.04, 0.18, 0.14, 0.2 ]])"
      ]
     },
     "execution_count": 30,
     "metadata": {},
     "output_type": "execute_result"
    }
   ],
   "source": [
    "np.round(eval_x,2)"
   ]
  },
  {
   "cell_type": "code",
   "execution_count": 31,
   "id": "57fe1002",
   "metadata": {},
   "outputs": [
    {
     "data": {
      "text/plain": [
       "array([[45.51,  2.33],\n",
       "       [17.95, 12.47],\n",
       "       [32.74,  0.69],\n",
       "       [27.81,  0.7 ],\n",
       "       [ 1.2 ,  2.15],\n",
       "       [29.43, 21.64],\n",
       "       [20.54,  0.32],\n",
       "       [27.03,  1.05],\n",
       "       [35.42,  0.64],\n",
       "       [21.52,  0.4 ],\n",
       "       [20.23,  0.23],\n",
       "       [29.07,  0.45],\n",
       "       [ 9.55, 19.8 ],\n",
       "       [ 0.  ,  0.  ],\n",
       "       [ 3.67,  4.28],\n",
       "       [ 0.57,  0.75],\n",
       "       [ 0.  ,  0.  ],\n",
       "       [ 0.53,  0.77],\n",
       "       [ 0.59,  0.6 ],\n",
       "       [ 0.2 ,  0.09],\n",
       "       [50.  , 10.  ]])"
      ]
     },
     "execution_count": 31,
     "metadata": {},
     "output_type": "execute_result"
    }
   ],
   "source": [
    "eval_y"
   ]
  },
  {
   "cell_type": "markdown",
   "id": "2a047e29",
   "metadata": {},
   "source": [
    "### run the next chunk if you have real data evaluated"
   ]
  },
  {
   "cell_type": "code",
   "execution_count": 17,
   "id": "2a2691ee",
   "metadata": {},
   "outputs": [],
   "source": [
    "date = datetime.today().strftime('%Y%m%d')\n",
    "eval_x_df = pd.DataFrame (np.round(eval_x, 2), columns = ['R1(HA)','R2(IA)','R3(NVP)',\n",
    "                                             'R4(AA)','R5(HEAA)','R6(IBOA)'])\n",
    "eval_x_df ['Tensile_Strength_Mpa'] = np.round(eval_y[:,0],1)\n",
    "eval_x_df ['Toughness_MPa'] = np.round(eval_y[:,1],1)\n",
    "eval_x_df.index += 1\n",
    "#print (eval_x_df)\n",
    "eval_x_df.to_csv(r'evaluated_{}.csv'.format(date))"
   ]
  },
  {
   "cell_type": "markdown",
   "id": "significant-allen",
   "metadata": {},
   "source": []
  }
 ],
 "metadata": {
  "kernelspec": {
   "display_name": "Python 3",
   "language": "python",
   "name": "python3"
  },
  "language_info": {
   "codemirror_mode": {
    "name": "ipython",
    "version": 3
   },
   "file_extension": ".py",
   "mimetype": "text/x-python",
   "name": "python",
   "nbconvert_exporter": "python",
   "pygments_lexer": "ipython3",
   "version": "3.9.2"
  }
 },
 "nbformat": 4,
 "nbformat_minor": 5
}
